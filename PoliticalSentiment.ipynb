{
  "nbformat": 4,
  "nbformat_minor": 0,
  "metadata": {
    "colab": {
      "name": "PoliticalSentimentAnalysisDeepLearning.ipynb",
      "version": "0.3.2",
      "provenance": [],
      "collapsed_sections": []
    },
    "kernelspec": {
      "name": "python3",
      "display_name": "Python 3"
    }
  },
  "cells": [
    {
      "cell_type": "code",
      "metadata": {
        "id": "KSuq9T9VlU0A",
        "colab_type": "code",
        "colab": {}
      },
      "source": [
        ""
      ],
      "execution_count": 0,
      "outputs": []
    },
    {
      "cell_type": "code",
      "metadata": {
        "id": "mJv2dMnIlfNV",
        "colab_type": "code",
        "colab": {}
      },
      "source": [
        ""
      ],
      "execution_count": 0,
      "outputs": []
    },
    {
      "cell_type": "code",
      "metadata": {
        "id": "Gtv_vGGtnp3M",
        "colab_type": "code",
        "outputId": "dc6c4434-5634-4321-dc72-83171c88270e",
        "colab": {
          "base_uri": "https://localhost:8080/",
          "height": 34
        }
      },
      "source": [
        "from google.colab import drive\n",
        "drive.mount('/content/drive')"
      ],
      "execution_count": 0,
      "outputs": [
        {
          "output_type": "stream",
          "text": [
            "Drive already mounted at /content/drive; to attempt to forcibly remount, call drive.mount(\"/content/drive\", force_remount=True).\n"
          ],
          "name": "stdout"
        }
      ]
    },
    {
      "cell_type": "code",
      "metadata": {
        "id": "bVUt5qEzn1s7",
        "colab_type": "code",
        "colab": {}
      },
      "source": [
        "path = \"/content/drive/My Drive/Colab Notebooks/BJPCONGRESS/\"\n"
      ],
      "execution_count": 0,
      "outputs": []
    },
    {
      "cell_type": "code",
      "metadata": {
        "id": "1VzA9-uLoCQP",
        "colab_type": "code",
        "colab": {}
      },
      "source": [
        "import pandas as pd\n",
        "\n",
        "import numpy as np\n",
        "\n",
        "from sklearn.neural_network import MLPClassifier\n",
        "from sklearn.metrics import accuracy_score\n",
        "from sklearn.metrics import confusion_matrix"
      ],
      "execution_count": 0,
      "outputs": []
    },
    {
      "cell_type": "markdown",
      "metadata": {
        "id": "-hoV6sCDsafN",
        "colab_type": "text"
      },
      "source": [
        "# Preprocessing\n",
        "For each comments without political party names  , We are adding political party names beside political leader names . For example in BJP file \"modi is the  best\" is replaced by \"BJP modi is the best\" or \"Rahul Gandhi is the best\" is replaced by \"Congress Rahul Gandhi is the best\". Here BJP and Congress are the prominent Indian political parties. We are putting it in each documents(comments) so that model can learn easily to classify them into favour of BJP or Congress.\n",
        " "
      ]
    },
    {
      "cell_type": "code",
      "metadata": {
        "id": "DMfy56nqn6Vh",
        "colab_type": "code",
        "outputId": "69dd0603-abab-47ba-9934-fd0a180d8a9d",
        "colab": {
          "base_uri": "https://localhost:8080/",
          "height": 195
        }
      },
      "source": [
        "df_bjp = pd.read_csv(path+\"BJP.csv\", encoding=\"ISO-8859-1\")\n",
        "\n",
        "\n",
        "def returneditedBJP (x): \n",
        "  comment = x.lower()\n",
        "  if( (' rahul ' not in comment and 'rahul ' not in comment) and ' congress ' not in comment and ' cong ' not in comment):\n",
        "    comment = ' BJP ' + comment\n",
        "  elif ('rahul' in comment or ' rahul' in comment or 'rahul ' in comment):\n",
        "    comment = comment.replace('rahul', ' CONGRESS RAHUL ' )\n",
        "\n",
        "  return comment\n",
        "\n",
        "  \n",
        "\n",
        "\n",
        "df_bjp['commentText'] =  df_bjp['commentText'].apply(lambda x : returneditedBJP(x)) \n",
        "\n",
        "    \n",
        "#df_bjp['commentText'] =  df_bjp['commentText'].apply(lambda x : ' BJP ' + x if 'Rahul'  not in x.split()) \n",
        "\n",
        "\n",
        "def returnedited (x):\n",
        "  comment = x.lower()\n",
        "  if( (' modi ' not in comment or 'modi ' not in comment) and ' bjp ' not in comment):\n",
        "    comment = ' CONGRESS ' + comment\n",
        "    \n",
        "  elif ( 'modi '  in comment or  ' modi' in comment) :\n",
        "    comment = comment.replace('modi ', ' BJP MODI ' )\n",
        "    \n",
        "  return comment\n",
        "\n",
        "df_congress = pd.read_csv(path+\"congress.csv\", encoding=\"ISO-8859-1\")\n",
        "df_congress['commentText'] =  df_congress['commentText'].apply(lambda x : returnedited(x)) \n",
        "\n",
        "    \n",
        "    \n",
        "  \n",
        "#creating new column newlabel   \n",
        "df_congress[\"newLabel\"] = 0\n",
        "\n",
        "df_congress.columns\n",
        "df_bjp.head()  \n",
        "#df_bjp= df_congress\n",
        "#df_bjp.head()"
      ],
      "execution_count": 0,
      "outputs": [
        {
          "output_type": "execute_result",
          "data": {
            "text/html": [
              "<div>\n",
              "<style scoped>\n",
              "    .dataframe tbody tr th:only-of-type {\n",
              "        vertical-align: middle;\n",
              "    }\n",
              "\n",
              "    .dataframe tbody tr th {\n",
              "        vertical-align: top;\n",
              "    }\n",
              "\n",
              "    .dataframe thead th {\n",
              "        text-align: right;\n",
              "    }\n",
              "</style>\n",
              "<table border=\"1\" class=\"dataframe\">\n",
              "  <thead>\n",
              "    <tr style=\"text-align: right;\">\n",
              "      <th></th>\n",
              "      <th>commentText</th>\n",
              "      <th>Label</th>\n",
              "    </tr>\n",
              "  </thead>\n",
              "  <tbody>\n",
              "    <tr>\n",
              "      <th>0</th>\n",
              "      <td>BJP banda apna 100 % best he</td>\n",
              "      <td>1</td>\n",
              "    </tr>\n",
              "    <tr>\n",
              "      <th>1</th>\n",
              "      <td>BJP we need the king maker  ---- narendra modi</td>\n",
              "      <td>1</td>\n",
              "    </tr>\n",
              "    <tr>\n",
              "      <th>2</th>\n",
              "      <td>BJP awesome... banda apna best hai</td>\n",
              "      <td>1</td>\n",
              "    </tr>\n",
              "    <tr>\n",
              "      <th>3</th>\n",
              "      <td>BJP best pm ever</td>\n",
              "      <td>1</td>\n",
              "    </tr>\n",
              "    <tr>\n",
              "      <th>4</th>\n",
              "      <td>CONGRESS RAHUL  gandhi left the chat</td>\n",
              "      <td>1</td>\n",
              "    </tr>\n",
              "  </tbody>\n",
              "</table>\n",
              "</div>"
            ],
            "text/plain": [
              "                                       commentText  Label\n",
              "0                     BJP banda apna 100 % best he      1\n",
              "1   BJP we need the king maker  ---- narendra modi      1\n",
              "2               BJP awesome... banda apna best hai      1\n",
              "3                                 BJP best pm ever      1\n",
              "4             CONGRESS RAHUL  gandhi left the chat      1"
            ]
          },
          "metadata": {
            "tags": []
          },
          "execution_count": 5
        }
      ]
    },
    {
      "cell_type": "markdown",
      "metadata": {
        "id": "KxIhizaatyJ_",
        "colab_type": "text"
      },
      "source": [
        "Assigning 1 where comments are in favour of BJP and 0 where in favour of congress. "
      ]
    },
    {
      "cell_type": "code",
      "metadata": {
        "id": "TwiVXnIVoJ2E",
        "colab_type": "code",
        "outputId": "f811c306-aedc-47ec-99fd-92072b1ea781",
        "colab": {
          "base_uri": "https://localhost:8080/",
          "height": 185
        }
      },
      "source": [
        "#Assigning 1 where comments are in favour of BJP and 0 where in favour of congress in comments of congress related xls file.\n",
        "df_congress.newLabel[df_congress.Label == 0] =1\n",
        "df_congress.newLabel[df_congress.Label == 1] =0\n",
        "#dropping column label\n",
        "df_congress.drop(columns=\"Label\", inplace= True)\n",
        "#renaming column newlabel to label\n",
        "df_congress.rename(columns={\"newLabel\":\"Label\"} , inplace= True)\n",
        "\n"
      ],
      "execution_count": 0,
      "outputs": [
        {
          "output_type": "stream",
          "text": [
            "/usr/local/lib/python3.6/dist-packages/ipykernel_launcher.py:1: SettingWithCopyWarning: \n",
            "A value is trying to be set on a copy of a slice from a DataFrame\n",
            "\n",
            "See the caveats in the documentation: http://pandas.pydata.org/pandas-docs/stable/indexing.html#indexing-view-versus-copy\n",
            "  \"\"\"Entry point for launching an IPython kernel.\n",
            "/usr/local/lib/python3.6/dist-packages/ipykernel_launcher.py:2: SettingWithCopyWarning: \n",
            "A value is trying to be set on a copy of a slice from a DataFrame\n",
            "\n",
            "See the caveats in the documentation: http://pandas.pydata.org/pandas-docs/stable/indexing.html#indexing-view-versus-copy\n",
            "  \n"
          ],
          "name": "stderr"
        }
      ]
    },
    {
      "cell_type": "code",
      "metadata": {
        "id": "kysVRYkqoOlJ",
        "colab_type": "code",
        "outputId": "a049fa81-e8e7-4d55-f56a-6fb14f03ae1b",
        "colab": {
          "base_uri": "https://localhost:8080/",
          "height": 67
        }
      },
      "source": [
        "print(df_bjp.shape)\n",
        "print(df_congress.shape)\n",
        "#merging dataframes of bjp and congress\n",
        "df_bjp = pd.concat([df_bjp, df_congress])\n",
        "\n",
        "print(df_bjp.shape)\n",
        "df_bjp.columns\n",
        "df_bjp.reset_index(inplace= True)"
      ],
      "execution_count": 0,
      "outputs": [
        {
          "output_type": "stream",
          "text": [
            "(1952, 2)\n",
            "(1998, 2)\n",
            "(3950, 2)\n"
          ],
          "name": "stdout"
        }
      ]
    },
    {
      "cell_type": "code",
      "metadata": {
        "id": "d_OOC9g7oRIA",
        "colab_type": "code",
        "outputId": "8c6a6473-9c6f-4426-f6a4-d94c2a8b06f6",
        "colab": {
          "base_uri": "https://localhost:8080/",
          "height": 67
        }
      },
      "source": [
        "import nltk\n",
        "from sklearn.feature_extraction import text\n",
        "from sklearn.feature_extraction.text import TfidfVectorizer\n",
        "from nltk.corpus import stopwords\n",
        "nltk.download('stopwords')\n",
        "from nltk.tokenize import RegexpTokenizer\n",
        "from nltk.stem.snowball import SnowballStemmer\n",
        "\n",
        "punc = ['.', ',', '\"', \"'\", '?','??', '!', ':', ';', '(', ')', '[', ']', '{', '}',\"%\",'???']\n",
        "# hingstops= ['kaun', 'kyun', 'im', 'm', 'i', 'se', 'u', 'esi', 'ho', 'is', 'aap', 'ab', 'actually', 'alreadi', 'always', 'amaz', 'ap', 'apna', 'apne', 'apni', 'aur', 'b', 'j', 'b', 'j', 'p', \n",
        "#             'banda', 'aa', 'aab', 'aadmi', 'aam', 'ad' ,'agar' ,'aisa', 'aise', 'aisi', 'ak', 'bar', 'aur', 'away', 'b', 'baad', 'd', 'abhi', 'baat', 'hai'\n",
        "#             'h', 'ko', 'ku', 'vs', 'boy', 'bro', 'brothers', 'sisters' ,'sister', 'brother', 'bt', 'c', 'chal', 'chale', 'cm', 'com', 'yaar',\n",
        "#             'bhar', 'bhi', 'itni', 'bhot', 'bhut', 'bilkul', 'till', 'tha' ,'h', 'ye' ,'y', 'yuhi', 'yun', 'to', 'e', 'ki', 'ad', 'd', 'g', 'tha', 'modi','rahul','2019']\n",
        "stop_words= punc\n",
        "\n",
        "len(stop_words)\n",
        "#stop_words"
      ],
      "execution_count": 0,
      "outputs": [
        {
          "output_type": "stream",
          "text": [
            "[nltk_data] Downloading package stopwords to /root/nltk_data...\n",
            "[nltk_data]   Package stopwords is already up-to-date!\n"
          ],
          "name": "stdout"
        },
        {
          "output_type": "execute_result",
          "data": {
            "text/plain": [
              "17"
            ]
          },
          "metadata": {
            "tags": []
          },
          "execution_count": 8
        }
      ]
    },
    {
      "cell_type": "code",
      "metadata": {
        "id": "GytOK59dobyb",
        "colab_type": "code",
        "outputId": "f0b8ca3d-b415-42a8-f1b6-ce464dfd27ff",
        "colab": {
          "base_uri": "https://localhost:8080/",
          "height": 151
        }
      },
      "source": [
        "import nltk\n",
        "nltk.download('averaged_perceptron_tagger')\n",
        "nltk.download('punkt')\n",
        "nltk.download('wordnet')\n",
        "from nltk.tokenize import RegexpTokenizer\n",
        "from nltk.stem import WordNetLemmatizer\n",
        "from nltk.tokenize import sent_tokenize, word_tokenize\n",
        "\n",
        "stemmer = SnowballStemmer('english')\n",
        "\n",
        "wordnet_lemmatizer = WordNetLemmatizer()\n",
        "    \n",
        "tokenizer = RegexpTokenizer(r'[a-zA-Z\\']+')\n",
        "\n",
        "   \n",
        "  \n",
        "def tokenize(text):\n",
        "  wordlist= []\n",
        "  for word in tokenizer.tokenize(text.lower()):\n",
        "    wordlist.append(word)\n",
        "  return wordlist\n",
        "\n"
      ],
      "execution_count": 0,
      "outputs": [
        {
          "output_type": "stream",
          "text": [
            "[nltk_data] Downloading package averaged_perceptron_tagger to\n",
            "[nltk_data]     /root/nltk_data...\n",
            "[nltk_data]   Package averaged_perceptron_tagger is already up-to-\n",
            "[nltk_data]       date!\n",
            "[nltk_data] Downloading package punkt to /root/nltk_data...\n",
            "[nltk_data]   Package punkt is already up-to-date!\n",
            "[nltk_data] Downloading package wordnet to /root/nltk_data...\n",
            "[nltk_data]   Package wordnet is already up-to-date!\n"
          ],
          "name": "stdout"
        }
      ]
    },
    {
      "cell_type": "markdown",
      "metadata": {
        "id": "b8Md_DZUdRdI",
        "colab_type": "text"
      },
      "source": [
        "#Keras tokenizer and Train Test Split"
      ]
    },
    {
      "cell_type": "code",
      "metadata": {
        "id": "FY7CU8TcS3tl",
        "colab_type": "code",
        "outputId": "758707c4-53a5-4b0b-a8fa-762fef538ef2",
        "colab": {
          "base_uri": "https://localhost:8080/",
          "height": 101
        }
      },
      "source": [
        "from keras.models import Sequential\n",
        "from keras.layers import Dense, Dropout, Activation\n",
        "from keras.layers import Embedding\n",
        "from keras.layers import Conv1D, GlobalMaxPooling1D\n",
        "from keras.preprocessing.text import Tokenizer\n",
        "from keras.preprocessing import sequence\n",
        "from sklearn.preprocessing import LabelEncoder\n",
        "import time\n",
        "from keras import metrics\n",
        "from sklearn.model_selection import train_test_split\n",
        "\n",
        "\n",
        "max_fatures = 1000 #or vocab size\n",
        "#Keras tokenizer \n",
        "tokenizer = Tokenizer(nb_words=max_fatures, split=' ', )\n",
        "tokenizer.fit_on_texts(df_bjp.commentText.values)\n",
        "X1 = tokenizer.texts_to_sequences(df_bjp.commentText.values)\n",
        "X1 = sequence.pad_sequences(X1, maxlen= max_fatures)\n",
        "\n",
        "Y1 = (df_bjp.Label).values #pd.get_dummies\n",
        "\n",
        "#Train test split\n",
        "X1_train, X1_test, Y1_train, Y1_test = train_test_split(X1,Y1, random_state = 42)\n",
        "print(X1_train.shape,Y1_train.shape)\n",
        "print(X1_test.shape,Y1_test.shape)\n",
        "word_index = tokenizer.word_index\n",
        "print('Found %s unique tokens.' % len(word_index))\n"
      ],
      "execution_count": 0,
      "outputs": [
        {
          "output_type": "stream",
          "text": [
            "/usr/local/lib/python3.6/dist-packages/keras_preprocessing/text.py:178: UserWarning: The `nb_words` argument in `Tokenizer` has been renamed `num_words`.\n",
            "  warnings.warn('The `nb_words` argument in `Tokenizer` '\n"
          ],
          "name": "stderr"
        },
        {
          "output_type": "stream",
          "text": [
            "(2962, 1000) (2962,)\n",
            "(988, 1000) (988,)\n",
            "Found 5824 unique tokens.\n"
          ],
          "name": "stdout"
        }
      ]
    },
    {
      "cell_type": "markdown",
      "metadata": {
        "id": "loBLTWvrv-NM",
        "colab_type": "text"
      },
      "source": [
        "# CNN_LSTM"
      ]
    },
    {
      "cell_type": "code",
      "metadata": {
        "id": "CQnhmz0qfo28",
        "colab_type": "code",
        "outputId": "b0fc9518-a54b-40b9-fa0a-d12ab0e41e2d",
        "colab": {
          "base_uri": "https://localhost:8080/",
          "height": 440
        }
      },
      "source": [
        "# from keras.layers import Dense, Flatten, LSTM, Conv1D, MaxPooling1D, Dropout, Activation ##80 acc batch 100 , epoch 50\n",
        "# embed_dim = 150\n",
        "# lstm_out = 500\n",
        "# model = Sequential()\n",
        "# model.add(Embedding(max_fatures, embed_dim,input_length = X1.shape[1], dropout=0.2))\n",
        "# model.add(Conv1D(150, 5, activation='relu')) # 128 * 128 5 FILTERS i/p - 10 filters +1 = 491\n",
        "# model.add(MaxPooling1D(pool_size=3)) # 4 LAYERS OF POOLING\n",
        "# model.add(LSTM(64, dropout_U=0.2,dropout_W=0.2, return_sequences = False))\n",
        "# #model.add(LSTM(50, dropout_U=0.2,dropout_W=0.2, return_sequences = False))\n",
        "# model.add(Dense(1,activation='sigmoid'))\n",
        "# model.compile(loss = 'binary_crossentropy', optimizer='adam',metrics = ['accuracy'])\n",
        "# print(model.summary())\n",
        "\n",
        "# from keras.layers import Dense, Flatten, LSTM, Conv1D, MaxPooling1D, Dropout, Activation 80.76 2249 sec,  1.13  acctrain -98.73\n",
        "# embed_dim = 150\n",
        "# lstm_out = 500\n",
        "# model = Sequential()\n",
        "# model.add(Embedding(max_fatures, embed_dim,input_length = X1.shape[1], dropout=0.1))\n",
        "# model.add(Conv1D(64, 5, activation='relu')) # 128 * 128 5 FILTERS i/p - 10 filters +1 = 491\n",
        "# model.add(MaxPooling1D(pool_size=3)) # 4 LAYERS OF POOLING\n",
        "# model.add(LSTM(64, dropout_U=0.1,dropout_W=0.1, return_sequences = False))\n",
        "# #model.add(LSTM(50, dropout_U=0.2,dropout_W=0.2, return_sequences = False))\n",
        "# model.add(Dense(1,activation='sigmoid'))\n",
        "# model.compile(loss = 'binary_crossentropy', optimizer='adam',metrics = ['accuracy'])\n",
        "# print(model.summary())\n",
        "\n",
        "# from keras.layers import Dense, Flatten, LSTM, Conv1D, MaxPooling1D, Dropout, Activation\n",
        "# embed_dim = 150\n",
        "# lstm_out = 500\n",
        "# model = Sequential()\n",
        "# model.add(Embedding(max_fatures, embed_dim,input_length = X1.shape[1], dropout=0.1))\n",
        "# model.add(Conv1D(64, 5, activation='relu')) # 128 * 128 5 FILTERS i/p - 10 filters +1 = 491\n",
        "# model.add(MaxPooling1D(pool_size=4)) # 4 LAYERS OF POOLING\n",
        "# model.add(Conv1D(64, 2, activation='relu'))\n",
        "# model.add(MaxPooling1D(pool_size=4))\n",
        "# model.add(LSTM(64, dropout_U=0.1,dropout_W=0.1, return_sequences = False))\n",
        "# model.add(Dense(1,activation='sigmoid'))\n",
        "# model.compile(loss = 'binary_crossentropy', optimizer='adam',metrics = ['accuracy'])\n",
        "# print(model.summary()) best 95.58\n",
        "\n",
        "from keras.layers import Dense, Flatten, LSTM, Conv1D, MaxPooling1D, Dropout, Activation\n",
        "embed_dim = 150\n",
        "lstm_out = 500\n",
        "model = Sequential()\n",
        "model.add(Embedding(max_fatures, embed_dim,input_length = X1.shape[1], dropout=0.1))\n",
        "model.add(Conv1D(64, 5, activation='relu')) # 128 * 128 5 FILTERS i/p - 10 filters +1 = 491\n",
        "model.add(MaxPooling1D(pool_size=4)) # 4 LAYERS OF POOLING\n",
        "model.add(Conv1D(64, 2, activation='relu'))\n",
        "model.add(MaxPooling1D(pool_size=4))\n",
        "model.add(LSTM(64,  return_sequences = False))\n",
        "model.add(Dense(1,activation='sigmoid'))\n",
        "model.compile(loss = 'binary_crossentropy', optimizer='adam',metrics = ['accuracy'])\n",
        "print(model.summary()) "
      ],
      "execution_count": 0,
      "outputs": [
        {
          "output_type": "stream",
          "text": [
            "/usr/local/lib/python3.6/dist-packages/ipykernel_launcher.py:6: UserWarning: The `dropout` argument is no longer support in `Embedding`. You can apply a `keras.layers.SpatialDropout1D` layer right after the `Embedding` layer to get the same behavior.\n",
            "  \n"
          ],
          "name": "stderr"
        },
        {
          "output_type": "stream",
          "text": [
            "_________________________________________________________________\n",
            "Layer (type)                 Output Shape              Param #   \n",
            "=================================================================\n",
            "embedding_22 (Embedding)     (None, 1000, 150)         150000    \n",
            "_________________________________________________________________\n",
            "conv1d_31 (Conv1D)           (None, 996, 64)           48064     \n",
            "_________________________________________________________________\n",
            "max_pooling1d_30 (MaxPooling (None, 249, 64)           0         \n",
            "_________________________________________________________________\n",
            "conv1d_32 (Conv1D)           (None, 248, 64)           8256      \n",
            "_________________________________________________________________\n",
            "max_pooling1d_31 (MaxPooling (None, 62, 64)            0         \n",
            "_________________________________________________________________\n",
            "lstm_17 (LSTM)               (None, 64)                33024     \n",
            "_________________________________________________________________\n",
            "dense_21 (Dense)             (None, 1)                 65        \n",
            "=================================================================\n",
            "Total params: 239,409\n",
            "Trainable params: 239,409\n",
            "Non-trainable params: 0\n",
            "_________________________________________________________________\n",
            "None\n"
          ],
          "name": "stdout"
        }
      ]
    },
    {
      "cell_type": "markdown",
      "metadata": {
        "id": "uwZP38sSwLMv",
        "colab_type": "text"
      },
      "source": [
        "Training the model"
      ]
    },
    {
      "cell_type": "code",
      "metadata": {
        "id": "-wK9o8VqggFk",
        "colab_type": "code",
        "outputId": "ae2ae103-0bc4-4c84-bc12-7dcf893a314a",
        "colab": {
          "base_uri": "https://localhost:8080/",
          "height": 538
        }
      },
      "source": [
        "import time\n",
        "\n",
        "start_time = time.clock()\n",
        "\n",
        "model.fit(X1_train,Y1_train,batch_size=35,epochs=15,verbose=1)\n",
        "print (time.clock() - start_time, \"seconds\")\n"
      ],
      "execution_count": 0,
      "outputs": [
        {
          "output_type": "stream",
          "text": [
            "Epoch 1/15\n",
            "2962/2962 [==============================] - 36s 12ms/step - loss: 0.6484 - acc: 0.6050\n",
            "Epoch 2/15\n",
            "2962/2962 [==============================] - 31s 10ms/step - loss: 0.4631 - acc: 0.7883\n",
            "Epoch 3/15\n",
            "2962/2962 [==============================] - 31s 10ms/step - loss: 0.3097 - acc: 0.8744\n",
            "Epoch 4/15\n",
            "2962/2962 [==============================] - 31s 10ms/step - loss: 0.2179 - acc: 0.9190\n",
            "Epoch 5/15\n",
            "2962/2962 [==============================] - 31s 10ms/step - loss: 0.1545 - acc: 0.9463\n",
            "Epoch 6/15\n",
            "2962/2962 [==============================] - 31s 10ms/step - loss: 0.1036 - acc: 0.9659\n",
            "Epoch 7/15\n",
            "2962/2962 [==============================] - 30s 10ms/step - loss: 0.0923 - acc: 0.9733\n",
            "Epoch 8/15\n",
            "2962/2962 [==============================] - 30s 10ms/step - loss: 0.0720 - acc: 0.9733\n",
            "Epoch 9/15\n",
            "2962/2962 [==============================] - 30s 10ms/step - loss: 0.0696 - acc: 0.9757\n",
            "Epoch 10/15\n",
            "2962/2962 [==============================] - 31s 10ms/step - loss: 0.0674 - acc: 0.9787\n",
            "Epoch 11/15\n",
            "2962/2962 [==============================] - 31s 10ms/step - loss: 0.0610 - acc: 0.9787\n",
            "Epoch 12/15\n",
            "2962/2962 [==============================] - 31s 10ms/step - loss: 0.0588 - acc: 0.9777\n",
            "Epoch 13/15\n",
            "2962/2962 [==============================] - 31s 10ms/step - loss: 0.0534 - acc: 0.9811\n",
            "Epoch 14/15\n",
            "2962/2962 [==============================] - 30s 10ms/step - loss: 0.0529 - acc: 0.9808\n",
            "Epoch 15/15\n",
            "2962/2962 [==============================] - 31s 10ms/step - loss: 0.0488 - acc: 0.9831\n",
            "888.2014520000012 seconds\n"
          ],
          "name": "stdout"
        }
      ]
    },
    {
      "cell_type": "markdown",
      "metadata": {
        "id": "j51c1uV6wRrN",
        "colab_type": "text"
      },
      "source": [
        "Evaluating CNN-LSTM"
      ]
    },
    {
      "cell_type": "code",
      "metadata": {
        "id": "7H8d2V2hk_wH",
        "colab_type": "code",
        "outputId": "2e23ac08-dac7-4261-ec1f-b0fb75fd0a27",
        "colab": {
          "base_uri": "https://localhost:8080/",
          "height": 50
        }
      },
      "source": [
        "model.evaluate(X1_test, Y1_test)\n",
        "#output: [loss, accuracy]"
      ],
      "execution_count": 0,
      "outputs": [
        {
          "output_type": "stream",
          "text": [
            "988/988 [==============================] - 5s 5ms/step\n"
          ],
          "name": "stdout"
        },
        {
          "output_type": "execute_result",
          "data": {
            "text/plain": [
              "[0.933925789860096, 0.8178137654235006]"
            ]
          },
          "metadata": {
            "tags": []
          },
          "execution_count": 89
        }
      ]
    },
    {
      "cell_type": "markdown",
      "metadata": {
        "id": "n-YIZaaWwXZg",
        "colab_type": "text"
      },
      "source": [
        "# ROC for CNN-LSTM"
      ]
    },
    {
      "cell_type": "code",
      "metadata": {
        "id": "yEE4K8keLjq-",
        "colab_type": "code",
        "outputId": "528af771-17c5-4ab9-a479-3d15098bc21c",
        "colab": {
          "base_uri": "https://localhost:8080/",
          "height": 269
        }
      },
      "source": [
        "# from sklearn.metrics import precision_recall_curve\n",
        "# precision, recall, thresholds = precision_recall_curve(Y1_test, model.predict(X1_test))\n",
        "from sklearn.metrics import roc_curve\n",
        "y_pred_keras = model.predict(X1_test).ravel()\n",
        "fpr_keras, tpr_keras, thresholds_keras = roc_curve(Y1_test, model.predict(X1_test))\n",
        "\n",
        "from sklearn.metrics import roc_auc_score\n",
        "from matplotlib import pyplot\n",
        "pyplot.plot([0, 1], [0, 1], linestyle='--')\n",
        "# plot the roc curve for the model\n",
        "pyplot.plot(fpr_keras, tpr_keras, marker='.')\n",
        "# show the plot\n",
        "pyplot.show()"
      ],
      "execution_count": 0,
      "outputs": [
        {
          "output_type": "display_data",
          "data": {
            "image/png": "[encoded data removed]",
            "text/plain": [
              "<Figure size 432x288 with 1 Axes>"
            ]
          },
          "metadata": {
            "tags": []
          }
        }
      ]
    },
    {
      "cell_type": "markdown",
      "metadata": {
        "id": "xqfATEMvCTiw",
        "colab_type": "text"
      },
      "source": [
        "# RNN - LSTM"
      ]
    },
    {
      "cell_type": "code",
      "metadata": {
        "id": "XvKm0GlyCizr",
        "colab_type": "code",
        "colab": {}
      },
      "source": [
        "from sklearn.feature_extraction.text import CountVectorizer\n",
        "from keras.preprocessing.text import Tokenizer\n",
        "from keras.preprocessing.sequence import pad_sequences\n",
        "from keras.models import Sequential\n",
        "from keras.layers import Dense, Embedding, LSTM\n",
        "from sklearn.model_selection import train_test_split\n",
        "from keras.utils.np_utils import to_categorical\n",
        "from keras.models import Sequential\n",
        "from keras.layers import LSTM, Dense, Dropout, Masking, Embedding\n",
        "import re\n"
      ],
      "execution_count": 0,
      "outputs": []
    },
    {
      "cell_type": "code",
      "metadata": {
        "id": "S2Ucn23DCWCj",
        "colab_type": "code",
        "outputId": "331be6b2-b408-44df-88ec-01bdb31ff358",
        "colab": {
          "base_uri": "https://localhost:8080/",
          "height": 339
        }
      },
      "source": [
        "embed_dim = 150\n",
        "lstm_out = 500\n",
        "rnn = Sequential()\n",
        "rnn.add(Embedding(max_fatures, embed_dim,input_length = X1.shape[1], dropout=0.1))\n",
        "rnn.add(LSTM(64,  return_sequences = True))\n",
        "rnn.add(LSTM(64,  return_sequences = False))\n",
        "\n",
        "#model.add(LSTM(50, dropout_U=0.2,dropout_W=0.2, return_sequences = False))\n",
        "rnn.add(Dense(1,activation='sigmoid'))\n",
        "rnn.compile(loss = 'binary_crossentropy', optimizer='adam',metrics = ['accuracy'])\n",
        "print(rnn.summary())"
      ],
      "execution_count": 0,
      "outputs": [
        {
          "output_type": "stream",
          "text": [
            "/usr/local/lib/python3.6/dist-packages/ipykernel_launcher.py:4: UserWarning: The `dropout` argument is no longer support in `Embedding`. You can apply a `keras.layers.SpatialDropout1D` layer right after the `Embedding` layer to get the same behavior.\n",
            "  after removing the cwd from sys.path.\n"
          ],
          "name": "stderr"
        },
        {
          "output_type": "stream",
          "text": [
            "_________________________________________________________________\n",
            "Layer (type)                 Output Shape              Param #   \n",
            "=================================================================\n",
            "embedding_25 (Embedding)     (None, 1000, 150)         150000    \n",
            "_________________________________________________________________\n",
            "lstm_22 (LSTM)               (None, 1000, 64)          55040     \n",
            "_________________________________________________________________\n",
            "lstm_23 (LSTM)               (None, 64)                33024     \n",
            "_________________________________________________________________\n",
            "dense_24 (Dense)             (None, 1)                 65        \n",
            "=================================================================\n",
            "Total params: 238,129\n",
            "Trainable params: 238,129\n",
            "Non-trainable params: 0\n",
            "_________________________________________________________________\n",
            "None\n"
          ],
          "name": "stdout"
        }
      ]
    },
    {
      "cell_type": "markdown",
      "metadata": {
        "id": "esoMTKdKwjMF",
        "colab_type": "text"
      },
      "source": [
        "Training RNN-LSTM"
      ]
    },
    {
      "cell_type": "code",
      "metadata": {
        "id": "X1Jy-EetDCTI",
        "colab_type": "code",
        "outputId": "00861050-34d1-453a-fcb3-5b098926aafd",
        "colab": {
          "base_uri": "https://localhost:8080/",
          "height": 538
        }
      },
      "source": [
        "import time\n",
        "\n",
        "start_time = time.clock()\n",
        "\n",
        "rnn.fit(X1_train,Y1_train,batch_size=35,epochs=15,verbose=1)\n",
        "print (time.clock() - start_time, \"seconds\")\n"
      ],
      "execution_count": 0,
      "outputs": [
        {
          "output_type": "stream",
          "text": [
            "Epoch 1/15\n",
            "2962/2962 [==============================] - 153s 52ms/step - loss: 0.6275 - acc: 0.6246\n",
            "Epoch 2/15\n",
            "2962/2962 [==============================] - 147s 50ms/step - loss: 0.4920 - acc: 0.7698\n",
            "Epoch 3/15\n",
            "2962/2962 [==============================] - 148s 50ms/step - loss: 0.4165 - acc: 0.8120\n",
            "Epoch 4/15\n",
            "2962/2962 [==============================] - 148s 50ms/step - loss: 0.3642 - acc: 0.8494\n",
            "Epoch 5/15\n",
            "2962/2962 [==============================] - 148s 50ms/step - loss: 0.3144 - acc: 0.8697\n",
            "Epoch 6/15\n",
            "2962/2962 [==============================] - 148s 50ms/step - loss: 0.2770 - acc: 0.8883\n",
            "Epoch 7/15\n",
            "2962/2962 [==============================] - 148s 50ms/step - loss: 0.2468 - acc: 0.8984\n",
            "Epoch 8/15\n",
            "2962/2962 [==============================] - 148s 50ms/step - loss: 0.2191 - acc: 0.9099\n",
            "Epoch 9/15\n",
            "2962/2962 [==============================] - 149s 50ms/step - loss: 0.1982 - acc: 0.9257\n",
            "Epoch 10/15\n",
            "2962/2962 [==============================] - 149s 50ms/step - loss: 0.1709 - acc: 0.9355\n",
            "Epoch 11/15\n",
            "2962/2962 [==============================] - 148s 50ms/step - loss: 0.1552 - acc: 0.9406\n",
            "Epoch 12/15\n",
            "2962/2962 [==============================] - 148s 50ms/step - loss: 0.1258 - acc: 0.9510\n",
            "Epoch 13/15\n",
            "2962/2962 [==============================] - 149s 50ms/step - loss: 0.1107 - acc: 0.9605\n",
            "Epoch 14/15\n",
            "2962/2962 [==============================] - 149s 50ms/step - loss: 0.0997 - acc: 0.9642\n",
            "Epoch 15/15\n",
            "2962/2962 [==============================] - 149s 50ms/step - loss: 0.0925 - acc: 0.9673\n",
            "4246.230097 seconds\n"
          ],
          "name": "stdout"
        }
      ]
    },
    {
      "cell_type": "markdown",
      "metadata": {
        "id": "M60kmqa3wm1x",
        "colab_type": "text"
      },
      "source": [
        "#Testing RNN-LSTM"
      ]
    },
    {
      "cell_type": "code",
      "metadata": {
        "id": "eCgjVrQ_Cn4A",
        "colab_type": "code",
        "outputId": "1f2dcd2d-732b-433c-b246-f7f834e193b8",
        "colab": {
          "base_uri": "https://localhost:8080/",
          "height": 50
        }
      },
      "source": [
        "rnn.evaluate(X1_test, Y1_test)\n",
        "#output: [loss, accuracy]"
      ],
      "execution_count": 0,
      "outputs": [
        {
          "output_type": "stream",
          "text": [
            "988/988 [==============================] - 12s 12ms/step\n"
          ],
          "name": "stdout"
        },
        {
          "output_type": "execute_result",
          "data": {
            "text/plain": [
              "[0.9884313779321277, 0.8168016196745127]"
            ]
          },
          "metadata": {
            "tags": []
          },
          "execution_count": 97
        }
      ]
    },
    {
      "cell_type": "markdown",
      "metadata": {
        "id": "Wf0m7qZ7w9tI",
        "colab_type": "text"
      },
      "source": [
        "#ROC for RNN-LSTM"
      ]
    },
    {
      "cell_type": "code",
      "metadata": {
        "id": "lrypnPw7DOhg",
        "colab_type": "code",
        "outputId": "82ffc44f-5fd4-419d-a6a2-871be25c2565",
        "colab": {
          "base_uri": "https://localhost:8080/",
          "height": 269
        }
      },
      "source": [
        "# from sklearn.metrics import precision_recall_curve\n",
        "# precision, recall, thresholds = precision_recall_curve(Y1_test, model.predict(X1_test))\n",
        "from sklearn.metrics import roc_curve\n",
        "y_pred_keras = model.predict(X1_test).ravel()\n",
        "fpr_keras, tpr_keras, thresholds_keras = roc_curve(Y1_test, rnn.predict(X1_test))\n",
        "\n",
        "from sklearn.metrics import roc_auc_score\n",
        "from matplotlib import pyplot\n",
        "pyplot.plot([0, 1], [0, 1], linestyle='--')\n",
        "# plot the roc curve for the model\n",
        "pyplot.plot(fpr_keras, tpr_keras, marker='.')\n",
        "# show the plot\n",
        "pyplot.show()"
      ],
      "execution_count": 0,
      "outputs": [
        {
          "output_type": "display_data",
          "data": {
            "image/png": "[encoded data removed]",
            "text/plain": [
              "<Figure size 432x288 with 1 Axes>"
            ]
          },
          "metadata": {
            "tags": []
          }
        }
      ]
    },
    {
      "cell_type": "markdown",
      "metadata": {
        "id": "RAL7oJsPOUdx",
        "colab_type": "text"
      },
      "source": [
        "# MultiLayer Perceptron using TF-IDF vectorization"
      ]
    },
    {
      "cell_type": "code",
      "metadata": {
        "id": "ALCaDTAXOqIL",
        "colab_type": "code",
        "colab": {}
      },
      "source": [
        "vectorizer = TfidfVectorizer(stop_words = stop_words, tokenizer = tokenize, max_features = 500, ngram_range=(1,3), lowercase= True)\n",
        "tfdf = vectorizer.fit_transform(df_bjp.commentText)\n",
        "words = vectorizer.get_feature_names()"
      ],
      "execution_count": 0,
      "outputs": []
    },
    {
      "cell_type": "markdown",
      "metadata": {
        "id": "NcOgcaOeTtau",
        "colab_type": "text"
      },
      "source": [
        "Train test split"
      ]
    },
    {
      "cell_type": "code",
      "metadata": {
        "id": "9KDVcbADTxRG",
        "colab_type": "code",
        "colab": {}
      },
      "source": [
        "from sklearn.model_selection import train_test_split\n",
        "y= df_bjp.Label\n",
        "X_train, X_test, y_train, y_test = train_test_split( tfdf, y, test_size=0.2, random_state=42)"
      ],
      "execution_count": 0,
      "outputs": []
    },
    {
      "cell_type": "markdown",
      "metadata": {
        "id": "NdoGnneHxRT2",
        "colab_type": "text"
      },
      "source": [
        "Building MLP"
      ]
    },
    {
      "cell_type": "code",
      "metadata": {
        "id": "pP9BbZYMVck5",
        "colab_type": "code",
        "outputId": "0e46cb63-f1e8-45da-b1e9-1ff49a6a1708",
        "colab": {
          "base_uri": "https://localhost:8080/",
          "height": 1714
        }
      },
      "source": [
        "import numpy as np\n",
        "from keras.models import Sequential\n",
        "from keras.layers import Dense, Dropout\n",
        "mlp = Sequential()\n",
        "mlp.add(Dense(500, input_dim=500, activation='relu'))\n",
        "mlp.add(Dropout(0.1))\n",
        "mlp.add(Dense(550, activation='relu'))\n",
        "mlp.add(Dropout(0.1))\n",
        "\n",
        "mlp.add(Dense(100, activation='relu'))\n",
        "mlp.add(Dropout(0.1))\n",
        "\n",
        "mlp.add(Dense(10, activation='relu'))\n",
        "mlp.add(Dropout(0.1))\n",
        "\n",
        "\n",
        "mlp.add(Dense(1, activation='sigmoid'))\n",
        "#best2937 hiddden 200 1\n",
        "# 82.10 500 550 500 5000 10\n",
        "# Compile model\n",
        "from keras import optimizers\n",
        "opt =optimizers.adamax(lr=0.001)\n",
        "mlp.compile(loss='binary_crossentropy', optimizer=opt, metrics=['accuracy'])\n",
        "import time\n",
        "\n",
        "start_time = time.clock()\n",
        "\n",
        "\n",
        "# Fit the model\n",
        "mlp.fit(X_train, y_train, epochs=50, batch_size=150 )\n",
        "\n",
        "print (time.clock() - start_time, \"seconds\")\n",
        "\n"
      ],
      "execution_count": 0,
      "outputs": [
        {
          "output_type": "stream",
          "text": [
            "Epoch 1/50\n",
            "3160/3160 [==============================] - 1s 322us/step - loss: 0.6748 - acc: 0.5797\n",
            "Epoch 2/50\n",
            "3160/3160 [==============================] - 0s 142us/step - loss: 0.5989 - acc: 0.7294\n",
            "Epoch 3/50\n",
            "3160/3160 [==============================] - 0s 141us/step - loss: 0.5154 - acc: 0.7706\n",
            "Epoch 4/50\n",
            "3160/3160 [==============================] - 0s 152us/step - loss: 0.4445 - acc: 0.8063\n",
            "Epoch 5/50\n",
            "3160/3160 [==============================] - 0s 157us/step - loss: 0.3998 - acc: 0.8310\n",
            "Epoch 6/50\n",
            "3160/3160 [==============================] - 1s 160us/step - loss: 0.3595 - acc: 0.8544\n",
            "Epoch 7/50\n",
            "3160/3160 [==============================] - 0s 156us/step - loss: 0.3281 - acc: 0.8775\n",
            "Epoch 8/50\n",
            "3160/3160 [==============================] - 1s 159us/step - loss: 0.3064 - acc: 0.8848\n",
            "Epoch 9/50\n",
            "3160/3160 [==============================] - 1s 169us/step - loss: 0.2688 - acc: 0.9054\n",
            "Epoch 10/50\n",
            "3160/3160 [==============================] - 0s 157us/step - loss: 0.2516 - acc: 0.9165\n",
            "Epoch 11/50\n",
            "3160/3160 [==============================] - 0s 156us/step - loss: 0.2317 - acc: 0.9196\n",
            "Epoch 12/50\n",
            "3160/3160 [==============================] - 1s 160us/step - loss: 0.2100 - acc: 0.9278\n",
            "Epoch 13/50\n",
            "3160/3160 [==============================] - 1s 160us/step - loss: 0.1912 - acc: 0.9396\n",
            "Epoch 14/50\n",
            "3160/3160 [==============================] - 0s 156us/step - loss: 0.1878 - acc: 0.9373\n",
            "Epoch 15/50\n",
            "3160/3160 [==============================] - 0s 158us/step - loss: 0.1775 - acc: 0.9396\n",
            "Epoch 16/50\n",
            "3160/3160 [==============================] - 0s 152us/step - loss: 0.1685 - acc: 0.9462\n",
            "Epoch 17/50\n",
            "3160/3160 [==============================] - 1s 162us/step - loss: 0.1526 - acc: 0.9519\n",
            "Epoch 18/50\n",
            "3160/3160 [==============================] - 0s 152us/step - loss: 0.1542 - acc: 0.9503\n",
            "Epoch 19/50\n",
            "3160/3160 [==============================] - 1s 160us/step - loss: 0.1417 - acc: 0.9525\n",
            "Epoch 20/50\n",
            "3160/3160 [==============================] - 0s 157us/step - loss: 0.1313 - acc: 0.9573\n",
            "Epoch 21/50\n",
            "3160/3160 [==============================] - 0s 158us/step - loss: 0.1241 - acc: 0.9576\n",
            "Epoch 22/50\n",
            "3160/3160 [==============================] - 1s 162us/step - loss: 0.1268 - acc: 0.9557\n",
            "Epoch 23/50\n",
            "3160/3160 [==============================] - 0s 155us/step - loss: 0.1183 - acc: 0.9601\n",
            "Epoch 24/50\n",
            "3160/3160 [==============================] - 0s 157us/step - loss: 0.1123 - acc: 0.9627\n",
            "Epoch 25/50\n",
            "3160/3160 [==============================] - 0s 156us/step - loss: 0.1058 - acc: 0.9633\n",
            "Epoch 26/50\n",
            "3160/3160 [==============================] - 0s 155us/step - loss: 0.1051 - acc: 0.9652\n",
            "Epoch 27/50\n",
            "3160/3160 [==============================] - 0s 157us/step - loss: 0.1055 - acc: 0.9608\n",
            "Epoch 28/50\n",
            "3160/3160 [==============================] - 0s 154us/step - loss: 0.1003 - acc: 0.9655\n",
            "Epoch 29/50\n",
            "3160/3160 [==============================] - 1s 172us/step - loss: 0.1088 - acc: 0.9595\n",
            "Epoch 30/50\n",
            "3160/3160 [==============================] - 0s 155us/step - loss: 0.0971 - acc: 0.9655\n",
            "Epoch 31/50\n",
            "3160/3160 [==============================] - 0s 157us/step - loss: 0.0972 - acc: 0.9661\n",
            "Epoch 32/50\n",
            "3160/3160 [==============================] - 0s 156us/step - loss: 0.0910 - acc: 0.9658\n",
            "Epoch 33/50\n",
            "3160/3160 [==============================] - 1s 160us/step - loss: 0.0924 - acc: 0.9646\n",
            "Epoch 34/50\n",
            "3160/3160 [==============================] - 1s 161us/step - loss: 0.0855 - acc: 0.9687\n",
            "Epoch 35/50\n",
            "3160/3160 [==============================] - 1s 161us/step - loss: 0.0881 - acc: 0.9658\n",
            "Epoch 36/50\n",
            "3160/3160 [==============================] - 1s 158us/step - loss: 0.0830 - acc: 0.9684\n",
            "Epoch 37/50\n",
            "3160/3160 [==============================] - 1s 161us/step - loss: 0.0842 - acc: 0.9684\n",
            "Epoch 38/50\n",
            "3160/3160 [==============================] - 0s 157us/step - loss: 0.0897 - acc: 0.9658\n",
            "Epoch 39/50\n",
            "3160/3160 [==============================] - 1s 159us/step - loss: 0.0798 - acc: 0.9709\n",
            "Epoch 40/50\n",
            "3160/3160 [==============================] - 1s 159us/step - loss: 0.0817 - acc: 0.9696\n",
            "Epoch 41/50\n",
            "3160/3160 [==============================] - 0s 157us/step - loss: 0.0776 - acc: 0.9718\n",
            "Epoch 42/50\n",
            "3160/3160 [==============================] - 0s 157us/step - loss: 0.0832 - acc: 0.9690\n",
            "Epoch 43/50\n",
            "3160/3160 [==============================] - 1s 158us/step - loss: 0.0824 - acc: 0.9706\n",
            "Epoch 44/50\n",
            "3160/3160 [==============================] - 0s 156us/step - loss: 0.0792 - acc: 0.9709\n",
            "Epoch 45/50\n",
            "3160/3160 [==============================] - 0s 155us/step - loss: 0.0750 - acc: 0.9747\n",
            "Epoch 46/50\n",
            "3160/3160 [==============================] - 1s 161us/step - loss: 0.0834 - acc: 0.9684\n",
            "Epoch 47/50\n",
            "3160/3160 [==============================] - 0s 156us/step - loss: 0.0798 - acc: 0.9690\n",
            "Epoch 48/50\n",
            "3160/3160 [==============================] - 0s 158us/step - loss: 0.0745 - acc: 0.9728\n",
            "Epoch 49/50\n",
            "3160/3160 [==============================] - 1s 160us/step - loss: 0.0735 - acc: 0.9725\n",
            "Epoch 50/50\n",
            "3160/3160 [==============================] - 1s 164us/step - loss: 0.0782 - acc: 0.9715\n",
            "42.937273999999995 seconds\n"
          ],
          "name": "stdout"
        }
      ]
    },
    {
      "cell_type": "markdown",
      "metadata": {
        "id": "znW4ElyVxVWj",
        "colab_type": "text"
      },
      "source": [
        "# evaluating MLP"
      ]
    },
    {
      "cell_type": "code",
      "metadata": {
        "id": "DK53tdUBUlFK",
        "colab_type": "code",
        "outputId": "e291d126-2069-4e57-e137-f7a9c111806a",
        "colab": {
          "base_uri": "https://localhost:8080/",
          "height": 319
        }
      },
      "source": [
        "print(mlp.evaluate(X_test, y_test))\n",
        "##output: [loss, accuracy]\n",
        "\n",
        "# from sklearn.metrics import precision_recall_curve\n",
        "# precision, recall, thresholds = precision_recall_curve(Y1_test, model.predict(X1_test))\n",
        "from sklearn.metrics import roc_curve\n",
        "fpr_keras, tpr_keras, thresholds_keras = roc_curve(y_test, mlp.predict(X_test))\n",
        "\n",
        "from sklearn.metrics import roc_auc_score, auc\n",
        "from matplotlib import pyplot\n",
        "\n",
        "print(\"AUC: \"+ str(auc(fpr_keras, tpr_keras)))\n",
        "\n",
        "pyplot.plot([0, 1], [0, 1], linestyle='--')\n",
        "# plot the roc curve for the model\n",
        "pyplot.plot(fpr_keras, tpr_keras, marker='.')\n",
        "# show the plot\n",
        "pyplot.show()"
      ],
      "execution_count": 0,
      "outputs": [
        {
          "output_type": "stream",
          "text": [
            "790/790 [==============================] - 0s 119us/step\n",
            "[0.697358520121514, 0.8113924053650868]\n",
            "AUC: 0.8872529193870411\n"
          ],
          "name": "stdout"
        },
        {
          "output_type": "display_data",
          "data": {
            "image/png": "[encoded data removed]",
            "text/plain": [
              "<Figure size 432x288 with 1 Axes>"
            ]
          },
          "metadata": {
            "tags": []
          }
        }
      ]
    }
  ]
}